{
 "cells": [
  {
   "cell_type": "code",
   "execution_count": 1,
   "id": "1d02e8cf",
   "metadata": {},
   "outputs": [],
   "source": [
    "import os\n",
    "import pandas as pd\n",
    "import holidays"
   ]
  },
  {
   "cell_type": "code",
   "execution_count": 2,
   "id": "72a54d69",
   "metadata": {},
   "outputs": [],
   "source": [
    "raw_data_path = \"../data/raw\"\n",
    "preprocessed_data_path = \"../data/preprocessed\""
   ]
  },
  {
   "cell_type": "code",
   "execution_count": 3,
   "id": "2d1804b5",
   "metadata": {},
   "outputs": [],
   "source": [
    "start = pd.Timestamp(\"2017-01-01\")\n",
    "end = pd.Timestamp(\"2023-01-30\")"
   ]
  },
  {
   "cell_type": "markdown",
   "id": "1d7cfde7",
   "metadata": {},
   "source": [
    "# Define functions"
   ]
  },
  {
   "cell_type": "code",
   "execution_count": 4,
   "id": "d5f6cc99",
   "metadata": {},
   "outputs": [],
   "source": [
    "def to_datetime(df, col_name):\n",
    "    try:\n",
    "        df.index = df[col_name].apply(lambda x: pd.to_datetime(str(x), format='%d.%m.%Y', utc=True))\n",
    "    except:\n",
    "        df.index = df[col_name].apply(lambda x: pd.to_datetime(str(x), format='%d/%m/%Y', utc=True))    \n",
    "    df.index = df.index.date\n",
    "    df.index = pd.to_datetime(df.index) \n",
    "    return df.index\n",
    "\n",
    "def sum_consumptions(df):\n",
    "    return df[df.filter(like=\"RLM\",axis=1).columns].sum(1)\n",
    "\n",
    "def scaling(df, target, target_year=2020): \n",
    "    return (df * target / df[df.index.year==target_year].sum()).copy()\n",
    "\n",
    "def index_alignment(df):\n",
    "    df.index = pd.DatetimeIndex(df.index)\n",
    "    df = df.resample(\"D\").mean()\n",
    "    return df[df.index.duplicated()==False]\n",
    "\n",
    "def unify_index(df):\n",
    "    try:\n",
    "        return df.loc[(df.index >= start) & (df.index <= end)]\n",
    "    except:\n",
    "        return df.loc[(df.index.date >= first) & (df.index.date <= last)]"
   ]
  },
  {
   "cell_type": "markdown",
   "id": "540f254e",
   "metadata": {},
   "source": [
    "# Natural gas consumption data"
   ]
  },
  {
   "cell_type": "markdown",
   "id": "7d8fd575",
   "metadata": {},
   "source": [
    "## Gas consumption of RLM / large consumers"
   ]
  },
  {
   "cell_type": "markdown",
   "id": "97d63122",
   "metadata": {},
   "source": [
    "Aggregated consumption data (Trading Hub Europe): https://www.tradinghub.eu/en-gb/Publications/Transparency/Aggregated-consumption-data"
   ]
  },
  {
   "cell_type": "code",
   "execution_count": 5,
   "id": "0dd00cc0",
   "metadata": {},
   "outputs": [],
   "source": [
    "the_new = pd.read_csv(os.path.join(raw_data_path, \"THE_data.csv\"), sep=\";\")\n",
    "the_new.index = to_datetime(the_new, \"Gastag\")\n",
    "\n",
    "#to numeric\n",
    "the_new = the_new[the_new.columns[~the_new.columns.isin([\"Gastag\", \"Status\", \"Gasday\", \"State\"])]].fillna(\"0\")\n",
    "the_new = the_new.iloc[::-1] \n",
    "the_new = the_new.apply(lambda x: x.apply(lambda y: float(y.replace(\".\", \"\").replace(\",\", \"\"))))\n",
    "\n",
    "#from kWh to TWh\n",
    "the_new = the_new / (10**9)"
   ]
  },
  {
   "cell_type": "markdown",
   "id": "2dea3e07",
   "metadata": {},
   "source": [
    "Gas pool data: https://www.tradinghub.eu/de-de/Download/Archiv-GASPOOL / \"Sonstiges\" / \"Aggregierte Verbrauchsdaten\""
   ]
  },
  {
   "cell_type": "code",
   "execution_count": 6,
   "id": "94b346b8",
   "metadata": {},
   "outputs": [],
   "source": [
    "gaspool = pd.read_csv(os.path.join(raw_data_path, \"gaspool.csv\"), sep=\";\")\n",
    "gaspool.index = to_datetime(gaspool, \"Datum\")\n",
    "gaspool.drop(\"Datum\", axis=1, inplace=True)\n",
    "\n",
    "#from MWh to TWh\n",
    "gaspool = gaspool / (10**6)"
   ]
  },
  {
   "cell_type": "markdown",
   "id": "81a2a91a",
   "metadata": {},
   "source": [
    "NCG data: https://www.tradinghub.eu/de-de/Download/Archiv-NetConnect-Germany / \"Sonstiges\" / \"Aggregierte Verbrauchsdaten\""
   ]
  },
  {
   "cell_type": "code",
   "execution_count": 7,
   "id": "ac8eaa41",
   "metadata": {},
   "outputs": [],
   "source": [
    "ncg = pd.read_csv(os.path.join(raw_data_path, \"ncg.csv\"), sep=\";\")\n",
    "ncg.index = to_datetime(ncg, \"DayOfUse\")\n",
    "\n",
    "ncg.drop([\"DayOfUse\", \"Status\"], axis=1, inplace=True)\n",
    "ncg.drop(list(ncg.filter(like='Unit', axis=1).columns), axis=1, inplace=True)\n",
    "\n",
    "#from kWh to TWh\n",
    "ncg = ncg / (10**9)"
   ]
  },
  {
   "cell_type": "code",
   "execution_count": 8,
   "id": "f472bdc2",
   "metadata": {},
   "outputs": [],
   "source": [
    "the =  pd.concat([\n",
    "    sum_consumptions(df) for df in [the_new, gaspool, ncg]\n",
    "])\n",
    "the = the.sort_index()\n",
    "the = the.groupby(the.index).sum()"
   ]
  },
  {
   "cell_type": "code",
   "execution_count": 9,
   "id": "3a9867f3-c76f-4007-90e5-4564f5786196",
   "metadata": {},
   "outputs": [],
   "source": [
    "the.name = 'rlm'\n",
    "the = pd.DataFrame(the)\n",
    "the = the.loc[~the.index.duplicated(keep='first')]"
   ]
  },
  {
   "cell_type": "markdown",
   "id": "28614cc2",
   "metadata": {},
   "source": [
    "SLP consumption data: https://www.tradinghub.eu/de-de/Veröffentlichungen/Transparenz/Aggregierte-Verbrauchsdaten"
   ]
  },
  {
   "cell_type": "code",
   "execution_count": 10,
   "id": "150d76df",
   "metadata": {},
   "outputs": [],
   "source": [
    "slp =  pd.read_excel(os.path.join(raw_data_path,\"230306_Restlast ab 01.01.2018.xlsx\"), index_col=0, skiprows=2, sheet_name=\"Daten\")\n",
    "slp = slp [\"Restlast [kWh]\"] * 10**(-9) #kWh --> TWh\n",
    "\n",
    "negative_index = slp[slp <0].index\n",
    "slp[negative_index] = (slp[negative_index - pd.Timedelta(\"1d\")].values + slp[negative_index + pd.Timedelta(\"1d\")].values)/2\n",
    "\n",
    "slp = slp.to_frame().rename(columns={\"Restlast [kWh]\":  \"slp\"})\n",
    "slp.name = \"slp\""
   ]
  },
  {
   "cell_type": "markdown",
   "id": "fdd346e8",
   "metadata": {},
   "source": [
    "## Industrial gas consumption"
   ]
  },
  {
   "cell_type": "markdown",
   "id": "c0f856b6",
   "metadata": {},
   "source": [
    "Electricity generation from gas (ENTSO-E): https://transparency.entsoe.eu/generation/r2/actualGenerationPerGenerationUnit/show\n",
    "\n",
    "To retrieve data via the ENTSO-E API see: https://github.com/EnergieID/entsoe-py"
   ]
  },
  {
   "cell_type": "code",
   "execution_count": 11,
   "id": "2235129a",
   "metadata": {},
   "outputs": [],
   "source": [
    "electricity_from_gas = pd.read_csv(os.path.join(raw_data_path, \"electricity_from_gas.csv\"), index_col=0).squeeze(\"columns\")\n",
    "electricity_from_gas.index = pd.DatetimeIndex(electricity_from_gas.index)"
   ]
  },
  {
   "cell_type": "code",
   "execution_count": 12,
   "id": "41ccc80a",
   "metadata": {},
   "outputs": [],
   "source": [
    "electricity_from_gas.drop_duplicates(inplace=True)"
   ]
  },
  {
   "cell_type": "markdown",
   "id": "65a0302b",
   "metadata": {},
   "source": [
    "Gas consumption in electricity generation (Destatis): https://www-genesis.destatis.de/genesis//online?operation=table&code=43311-0002&bypass=true&levelindex=0&levelid=1669624814066#abreadcrumb (Genesis table code 43311-0002)"
   ]
  },
  {
   "cell_type": "code",
   "execution_count": 13,
   "id": "e34a11bc",
   "metadata": {},
   "outputs": [],
   "source": [
    "destatis_fuel = pd.read_excel(os.path.join(raw_data_path, \"destatis_monthly_fuel.xlsx\"), header = 4,index_col=[0,1])\n",
    "destatis_fuel = destatis_fuel[destatis_fuel.iloc[:,0]==(\"Erdgas, Erdölgas\")][\"GJ\"]\n",
    "destatis_fuel.index =destatis_fuel.index.get_level_values(0).values + '-' + destatis_fuel.index.get_level_values(1) \n",
    "destatis_fuel=destatis_fuel[:\"2022-Dezember\"]\n",
    "destatis_fuel.index = pd.date_range(f'{destatis_fuel.index[0].split(\"-\")[0]}-{destatis_fuel.index[0].split(\"-\")[1][:3]}-01',\n",
    "             f'{destatis_fuel.index[-1].split(\"-\")[0]}-Dec-31', \n",
    "             freq=\"m\")\n",
    "destatis_fuel = destatis_fuel*0.277778 #convert GJ to MWh\n",
    "\n",
    "destatis_fuel = destatis_fuel / 1000000 #from MWh to TWh\n",
    "\n",
    "destatis_fuel.name = 'destatis_fuel'"
   ]
  },
  {
   "cell_type": "code",
   "execution_count": 14,
   "id": "aa8977c0",
   "metadata": {},
   "outputs": [],
   "source": [
    "electricity_from_gas_scaled = pd.DataFrame()\n",
    "for date in destatis_fuel.index:\n",
    "    conditions = ((electricity_from_gas.index.year==date.year) & \n",
    "                  (electricity_from_gas.index.month==date.month))\n",
    "    ts = electricity_from_gas[conditions] * destatis_fuel[date] / electricity_from_gas[conditions].sum()\n",
    "    electricity_from_gas_scaled = pd.concat([electricity_from_gas_scaled, ts], axis=0)"
   ]
  },
  {
   "cell_type": "code",
   "execution_count": 15,
   "id": "814f3347",
   "metadata": {},
   "outputs": [],
   "source": [
    "gas_to_electricity_public = electricity_from_gas_scaled[0]\n",
    "gas_to_electricity_public.name = \"gas_to_electricity_public\"\n",
    "\n",
    "gas_to_electricity_public = pd.DataFrame(gas_to_electricity_public)\n",
    "\n",
    "gas_to_electricity_public = gas_to_electricity_public.loc[~gas_to_electricity_public.index.duplicated(keep='first')]"
   ]
  },
  {
   "cell_type": "code",
   "execution_count": 16,
   "id": "8db3cc93",
   "metadata": {},
   "outputs": [],
   "source": [
    "industry = the['rlm'] - gas_to_electricity_public['gas_to_electricity_public']\n",
    "\n",
    "industry.name = \"industry\"\n",
    "\n",
    "industry = pd.DataFrame(industry)\n",
    "industry = industry.loc[~industry.index.duplicated(keep='first')]"
   ]
  },
  {
   "cell_type": "markdown",
   "id": "3fa022d6",
   "metadata": {},
   "source": [
    "# Control variables / other variables"
   ]
  },
  {
   "cell_type": "markdown",
   "id": "78b9278b",
   "metadata": {},
   "source": [
    "## Simulated heating profiles (when2heat: w2h)"
   ]
  },
  {
   "cell_type": "code",
   "execution_count": 17,
   "id": "f17a672b",
   "metadata": {},
   "outputs": [],
   "source": [
    "w2h = pd.read_csv(os.path.join(raw_data_path, \"slp.csv\"), index_col=0)\n",
    "w2h.index = pd.to_datetime(\n",
    "    pd.to_datetime(w2h.index).date\n",
    ")\n",
    "w2h = w2h[w2h.index.year>=2016]"
   ]
  },
  {
   "cell_type": "code",
   "execution_count": 18,
   "id": "228341c8",
   "metadata": {},
   "outputs": [],
   "source": [
    "w2h[\"commercial\"] = w2h[[\"commercial_space TWh\", \"commercial_water TWh\"]].sum(1)\n",
    "w2h[\"residential\"] = w2h[[\"residential_space TWh\", \"residential_water TWh\"]].sum(1)"
   ]
  },
  {
   "cell_type": "code",
   "execution_count": 19,
   "id": "758bebb0",
   "metadata": {},
   "outputs": [],
   "source": [
    "w2h_scaled = pd.DataFrame()\n",
    "\n",
    "scaling_map = {\n",
    "    'residential': ('residential', 254),\n",
    "    'commercial': ('commercial', 98),\n",
    "    'decentral_chp': ('commercial', 15),\n",
    "    'industry_buildings': ('commercial', 25)\n",
    "}\n",
    "\n",
    "for name_out, (name_in, target) in scaling_map.items():\n",
    "    w2h_scaled[name_out] = scaling(w2h[name_in], target)\n",
    "    \n",
    "w2h_scaled['aggregated'] = w2h_scaled['residential'] + w2h_scaled['commercial']"
   ]
  },
  {
   "cell_type": "code",
   "execution_count": 20,
   "id": "43bbfa6e-b4cc-40e3-bb6b-49854c20657e",
   "metadata": {},
   "outputs": [],
   "source": [
    "w2h = w2h_scaled.aggregated\n",
    "w2h = pd.DataFrame(w2h)\n",
    "w2h = w2h.loc[~w2h.index.duplicated(keep='first')]"
   ]
  },
  {
   "cell_type": "markdown",
   "id": "16b2067d",
   "metadata": {},
   "source": [
    "Ambient temperature and solar radiation: \"2m temperature\", and \"Surface solar radiation downwards\" from https://cds.climate.copernicus.eu/cdsapp#!/dataset/reanalysis-era5-single-levels?tab=form"
   ]
  },
  {
   "cell_type": "code",
   "execution_count": 21,
   "id": "9eae26b1",
   "metadata": {},
   "outputs": [],
   "source": [
    "temperature = pd.read_csv(os.path.join(raw_data_path, \"temperature.csv\"), index_col=0)\n",
    "temperature.index = pd.DatetimeIndex(temperature.index)\n",
    "temperature = temperature.rename(columns={\"Temp [K]\" : \"temperature\"})\n",
    "temperature = temperature.loc[~temperature.index.duplicated(keep='first')]\n",
    "\n",
    "solar = pd.read_csv(os.path.join(raw_data_path, \"solar.csv\"), index_col=0)\n",
    "solar.index = pd.DatetimeIndex(solar.index)\n",
    "solar = solar * 2.77778e-16 #J/d --> TWh/d\n",
    "solar = solar.rename(columns={\"solar [J/m^2]\" : \"solar\"})\n",
    "solar = solar.loc[~solar.index.duplicated(keep='first')]"
   ]
  },
  {
   "cell_type": "markdown",
   "id": "365479fe",
   "metadata": {},
   "source": [
    "## Economic activity"
   ]
  },
  {
   "cell_type": "markdown",
   "id": "cafb0d83",
   "metadata": {},
   "source": [
    "Manufacturing sector production index: https://www.destatis.de/DE/Themen/Wirtschaft/Konjunkturindikatoren/_inhalt.html"
   ]
  },
  {
   "cell_type": "code",
   "execution_count": 22,
   "id": "d1ee9539",
   "metadata": {},
   "outputs": [],
   "source": [
    "manufacturing_sector = pd.read_csv(os.path.join(raw_data_path, \"manufacturing_sector.csv\"), index_col=0, sep=\";\", dtype={\"Originalwert\":float}, decimal=\",\")\n",
    "manufacturing_sector = manufacturing_sector.iloc[:,0] #0: original\n",
    "manufacturing_sector.index = pd.to_datetime(manufacturing_sector.index, format='%d.%m.%Y')\n",
    "\n",
    "manufacturing_sector.index = manufacturing_sector.index.to_period()\n",
    "manufacturing_sector = manufacturing_sector.resample('d',convention='end').bfill()\n",
    "manufacturing_sector.index = manufacturing_sector.index.to_timestamp()\n",
    "manufacturing_sector.name = \"manufacturing_sector\""
   ]
  },
  {
   "cell_type": "markdown",
   "id": "d940c557",
   "metadata": {},
   "source": [
    "Retail sector sales index: https://www.destatis.de/DE/Themen/Wirtschaft/Konjunkturindikatoren/Einzelhandel/keh331.html#355008"
   ]
  },
  {
   "cell_type": "code",
   "execution_count": 23,
   "id": "7dd0726b",
   "metadata": {
    "tags": []
   },
   "outputs": [],
   "source": [
    "retail_sector = pd.read_csv(os.path.join(raw_data_path, \"retail_sector.csv\"), index_col=0, sep=\";\", dtype={\"Originalwert\":float}, decimal=\",\")\n",
    "retail_sector = retail_sector.iloc[:,0] #0: original (real) \n",
    "retail_sector.index = pd.to_datetime(retail_sector.index, format='%d.%m.%Y')\n",
    "\n",
    "retail_sector.index = retail_sector.index.to_period()\n",
    "retail_sector = retail_sector.resample('d',convention='end').bfill()\n",
    "retail_sector.index = retail_sector.index.to_timestamp()\n",
    "retail_sector.name = \"retail_sector\""
   ]
  },
  {
   "cell_type": "markdown",
   "id": "817d7210",
   "metadata": {},
   "source": [
    "Hospitality sector sales index: https://www.destatis.de/DE/Themen/Branchen-Unternehmen/Gastgewerbe-Tourismus/_Grafik/_Interaktiv/umsatz-gastgewerbe.html"
   ]
  },
  {
   "cell_type": "code",
   "execution_count": 24,
   "id": "e8d92ac9",
   "metadata": {},
   "outputs": [],
   "source": [
    "hospitality_sector = pd.read_csv(os.path.join(raw_data_path, \"hospitality_sector.csv\"), index_col=0, sep=\";\", dtype={\"Originalwert\":float}, decimal=\",\")\n",
    "hospitality_sector = hospitality_sector.iloc[:,0] #0: original (real) \n",
    "hospitality_sector.index = hospitality_sector.index.map(lambda x: pd.to_datetime(x, format='%Y.%m.%d'))\n",
    "\n",
    "hospitality_sector.index = hospitality_sector.index.to_period()\n",
    "hospitality_sector = hospitality_sector.resample('d',convention='end').bfill()\n",
    "hospitality_sector.index = hospitality_sector.index.to_timestamp()\n",
    "hospitality_sector.name = \"hospitality_sector\""
   ]
  },
  {
   "cell_type": "markdown",
   "id": "638bdb00",
   "metadata": {},
   "source": [
    "Real hourly wages: https://www-genesis.destatis.de/genesis//online?operation=table&code=62361-0010&bypass=true&levelindex=0&levelid=1677750428078#abreadcrumb"
   ]
  },
  {
   "cell_type": "code",
   "execution_count": 25,
   "id": "6b164647",
   "metadata": {},
   "outputs": [],
   "source": [
    "wages = pd.read_csv(os.path.join(raw_data_path, \"income.csv\"), sep=\";\", decimal=\",\")\n",
    "qs = wages['Zeit'].astype(str) + f'-' + wages['2_Auspraegung_Code']\n",
    "qs = qs.str.replace('UART','')\n",
    "wages['Date'] = pd.PeriodIndex(qs, freq='Q')\n",
    "wages.set_index(pd.PeriodIndex(wages['Date']),inplace=True)\n",
    "wages = wages['VST074__Reallohnindex__1Q2022=100']\n",
    "wages = wages.resample('d',convention='end').bfill()\n",
    "wages.index = wages.index.to_timestamp()\n",
    "wages.name = 'real_wages'"
   ]
  },
  {
   "cell_type": "markdown",
   "id": "898234bc",
   "metadata": {},
   "source": [
    "## Natural gas prices"
   ]
  },
  {
   "cell_type": "markdown",
   "id": "3470c0ef",
   "metadata": {},
   "source": [
    "Gas prices: https://www.destatis.de/DE/Themen/Wirtschaft/Preise/Publikationen/Energiepreise/energiepreisentwicklung-xlsx-5619001.xlsx?__blob=publicationFile "
   ]
  },
  {
   "cell_type": "code",
   "execution_count": 26,
   "id": "a58e6d33",
   "metadata": {},
   "outputs": [],
   "source": [
    "prices_destatis = pd.read_excel(os.path.join(raw_data_path, \"Energiepreisentwicklung.xlsx\"),index_col=0, parse_dates=True)\n",
    "prices_destatis.index = pd.DatetimeIndex(pd.DatetimeIndex(prices_destatis.index).date)\n",
    "\n",
    "prices_destatis = prices_destatis.reindex(the.index, method = \"ffill\")\n",
    "prices_destatis = prices_destatis[prices_destatis.index <= '2022-12-31']\n",
    "\n",
    "price_industry = prices_destatis.loc[:,'Erzeugerpreis Erdgas (bei Abgabe an die Industrie)']\n",
    "price_industry.name = 'price_industry'\n",
    "price_households = prices_destatis.loc[:,'Verbraucherpreis Erdgas (ohne Umlage)']\n",
    "price_households.name = 'price_households'"
   ]
  },
  {
   "cell_type": "markdown",
   "id": "b1887f4d",
   "metadata": {},
   "source": [
    "# Combine data"
   ]
  },
  {
   "cell_type": "code",
   "execution_count": 27,
   "id": "3ea231ab-d015-4a08-b114-f890992b7d01",
   "metadata": {},
   "outputs": [],
   "source": [
    "df = pd.concat(\n",
    "    [slp, industry, gas_to_electricity_public, w2h, manufacturing_sector, hospitality_sector, \n",
    "     retail_sector, wages, price_industry, price_households, solar, temperature], axis=1\n",
    ")"
   ]
  },
  {
   "cell_type": "code",
   "execution_count": 28,
   "id": "4134b98a",
   "metadata": {},
   "outputs": [],
   "source": [
    "df = unify_index(df).copy()"
   ]
  },
  {
   "cell_type": "code",
   "execution_count": 29,
   "id": "610c97ba",
   "metadata": {},
   "outputs": [],
   "source": [
    "df['index']= df.index\n",
    "df['time'] = range(len(df))\n",
    "df['time'] = df['time'].apply(float)\n",
    "df['year'] = df[\"index\"].apply(lambda x: x.year)\n",
    "df['month'] = df['index'].apply(lambda x: x.month)"
   ]
  },
  {
   "cell_type": "code",
   "execution_count": 30,
   "id": "d8c693e2",
   "metadata": {},
   "outputs": [],
   "source": [
    "df['weekday'] = df['index'].apply(lambda x: x.strftime('%A'))\n",
    "df['weekday_num'] = df['index'].apply(lambda x: x.weekday())\n",
    "df['monday'] = df['weekday'].apply(lambda x: int(x==\"Monday\"))\n",
    "df['friday'] = df['weekday'].apply(lambda x: int(x==\"Friday\"))\n",
    "df['weekend'] = df['weekday'].apply(lambda x: int(x in [\"Saturday\", \"Sunday\"]))"
   ]
  },
  {
   "cell_type": "code",
   "execution_count": 31,
   "id": "d8f83404",
   "metadata": {},
   "outputs": [],
   "source": [
    "df['christmas_period'] = df['index'].apply(\n",
    "    lambda x: int((x.month==12)&(x.day in range(24,32)))\n",
    ")\n",
    "\n",
    "country_holidays = holidays.CountryHoliday('DE', prov='BY')\n",
    "df['holiday'] = df['index'].apply(lambda x: int(x in country_holidays))\n",
    "df['long_weekend'] = (\n",
    "    (df['holiday'].shift(-1) + df['weekend'].shift(1) - df['weekend'] == 2) | \n",
    "    (df['weekend'].shift(-1) + df['holiday'].shift(1) - df['weekend'] == 2) \n",
    ").apply(int)"
   ]
  },
  {
   "cell_type": "code",
   "execution_count": 32,
   "id": "b3e907bc",
   "metadata": {},
   "outputs": [
    {
     "data": {
      "text/plain": [
       "Index(['slp', 'industry', 'gas_to_electricity_public', 'aggregated',\n",
       "       'manufacturing_sector', 'hospitality_sector', 'retail_sector',\n",
       "       'real_wages', 'price_industry', 'price_households', 'solar',\n",
       "       'temperature', 'index', 'time', 'year', 'month', 'weekday',\n",
       "       'weekday_num', 'monday', 'friday', 'weekend', 'christmas_period',\n",
       "       'holiday', 'long_weekend'],\n",
       "      dtype='object')"
      ]
     },
     "execution_count": 32,
     "metadata": {},
     "output_type": "execute_result"
    }
   ],
   "source": [
    "df.columns"
   ]
  },
  {
   "cell_type": "markdown",
   "id": "4c656b29",
   "metadata": {},
   "source": [
    "# Export"
   ]
  },
  {
   "cell_type": "code",
   "execution_count": 33,
   "id": "1a8eb5b5",
   "metadata": {},
   "outputs": [],
   "source": [
    "df.to_csv(os.path.join(preprocessed_data_path, \"preprocessed.csv\"))"
   ]
  },
  {
   "cell_type": "code",
   "execution_count": null,
   "id": "8c3f151f",
   "metadata": {},
   "outputs": [],
   "source": []
  }
 ],
 "metadata": {
  "kernelspec": {
   "display_name": "Python 3 (ipykernel)",
   "language": "python",
   "name": "python3"
  },
  "language_info": {
   "codemirror_mode": {
    "name": "ipython",
    "version": 3
   },
   "file_extension": ".py",
   "mimetype": "text/x-python",
   "name": "python",
   "nbconvert_exporter": "python",
   "pygments_lexer": "ipython3",
   "version": "3.9.13"
  },
  "vscode": {
   "interpreter": {
    "hash": "fcf95cf5601200f131b1c48bf4ce729aa107ddd1917db92f7acaa8b54668d9aa"
   }
  }
 },
 "nbformat": 4,
 "nbformat_minor": 5
}
